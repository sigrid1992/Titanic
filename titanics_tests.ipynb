{
  "nbformat": 4,
  "nbformat_minor": 0,
  "metadata": {
    "colab": {
      "name": "titanics tests.ipynb",
      "private_outputs": true,
      "provenance": [],
      "collapsed_sections": []
    },
    "kernelspec": {
      "name": "python3",
      "display_name": "Python 3"
    },
    "language_info": {
      "name": "python"
    }
  },
  "cells": [
    {
      "cell_type": "code",
      "metadata": {
        "id": "5MI-MdqKQtFX"
      },
      "source": [
        "import pandas as pd \n"
      ],
      "execution_count": null,
      "outputs": []
    },
    {
      "cell_type": "code",
      "metadata": {
        "id": "WrtMvtCVR1ej"
      },
      "source": [
        "df = pd.read_csv(\"https://raw.githubusercontent.com/datasciencedojo/datasets/master/titanic.csv\")\n",
        "df.head(20)"
      ],
      "execution_count": null,
      "outputs": []
    },
    {
      "cell_type": "code",
      "metadata": {
        "id": "S4lyCK54Tu5j"
      },
      "source": [
        "df['Age'].isnull().value_counts()"
      ],
      "execution_count": null,
      "outputs": []
    },
    {
      "cell_type": "code",
      "metadata": {
        "id": "_cjl3h2qWRk2"
      },
      "source": [
        "age_sex = df[['Age', 'Sex']]\n",
        "age_sex.value_counts(dropna = False)"
      ],
      "execution_count": null,
      "outputs": []
    },
    {
      "cell_type": "code",
      "metadata": {
        "id": "dxJWL0ZGXiEp"
      },
      "source": [
        "df['Age'].isnull()\n"
      ],
      "execution_count": null,
      "outputs": []
    },
    {
      "cell_type": "code",
      "metadata": {
        "id": "FwhIiH0wVSlY"
      },
      "source": [
        "df[df['Age'].isnull()].Sex.value_counts(normalize=True)"
      ],
      "execution_count": null,
      "outputs": []
    },
    {
      "cell_type": "code",
      "metadata": {
        "id": "0MQntap-W9Er"
      },
      "source": [
        "resultados = df.Sex.value_counts(normalize=True)\n",
        "print(resultados)\n",
        "resultados['male']\n"
      ],
      "execution_count": null,
      "outputs": []
    },
    {
      "cell_type": "code",
      "metadata": {
        "id": "jFHt1TXdepAh"
      },
      "source": [
        "df.columns"
      ],
      "execution_count": null,
      "outputs": []
    },
    {
      "cell_type": "code",
      "metadata": {
        "id": "GUeTGh2iexnc"
      },
      "source": [
        "df_limpio = df.drop(['PassengerId', 'Survived'], axis=1)\n",
        "df_cabe = df[10:-1]"
      ],
      "execution_count": null,
      "outputs": []
    },
    {
      "cell_type": "code",
      "metadata": {
        "id": "N-QguE3Zi2vM"
      },
      "source": [
        "f = lambda x: x/2\n",
        "\n",
        "df[['Age','Fare']].apply(f)"
      ],
      "execution_count": null,
      "outputs": []
    },
    {
      "cell_type": "code",
      "metadata": {
        "id": "oGqLVjCAnZj9"
      },
      "source": [
        "df.columns"
      ],
      "execution_count": null,
      "outputs": []
    },
    {
      "cell_type": "code",
      "metadata": {
        "id": "GoZMEwSOm2SM"
      },
      "source": [
        "df_out = df.set_index('PassengerId').melt\n",
        "print(df_out)"
      ],
      "execution_count": null,
      "outputs": []
    },
    {
      "cell_type": "code",
      "metadata": {
        "id": "iazPQYtgoYm6"
      },
      "source": [
        "df[['Name', 'Fare', 'Pclass', 'Sex']].pivot(columns=['Name','Pclass'], values=['Sex','Fare'])"
      ],
      "execution_count": null,
      "outputs": []
    },
    {
      "cell_type": "code",
      "metadata": {
        "id": "HrRl2OFMtTk4"
      },
      "source": [
        "import numpy as np\n",
        "import matplotlib.pyplot as plt\n",
        "\n",
        "# Fixing random state for reproducibility\n",
        "np.random.seed(19680801)\n",
        "\n",
        "# some random data\n",
        "x = np.random.randn(1000)\n",
        "y = np.random.randn(1000)\n",
        "\n",
        "\n",
        "def scatter_hist(x, y, ax, ax_histx, ax_histy):\n",
        "    # no labels\n",
        "    ax_histx.tick_params(axis=\"x\", labelbottom=False)\n",
        "    ax_histy.tick_params(axis=\"y\", labelleft=False)\n",
        "\n",
        "    # the scatter plot:\n",
        "    ax.scatter(x, y)\n",
        "\n",
        "    # now determine nice limits by hand:\n",
        "    binwidth = 0.25\n",
        "    xymax = max(np.max(np.abs(x)), np.max(np.abs(y)))\n",
        "    lim = (int(xymax/binwidth) + 1) * binwidth\n",
        "\n",
        "    bins = np.arange(-lim, lim + binwidth, binwidth)\n",
        "    ax_histx.hist(x, bins=bins)\n",
        "    ax_histy.hist(y, bins=bins, orientation='horizontal')\n",
        "    "
      ],
      "execution_count": null,
      "outputs": []
    },
    {
      "cell_type": "code",
      "metadata": {
        "id": "5UGkfnTYtWpH"
      },
      "source": [
        "# definitions for the axes\n",
        "left, width = 0.1, 0.65\n",
        "bottom, height = 0.1, 0.65\n",
        "spacing = 0.005\n",
        "\n",
        "\n",
        "rect_scatter = [left, bottom, width, height]\n",
        "rect_histx = [left, bottom + height + spacing, width, 0.2]\n",
        "rect_histy = [left + width + spacing, bottom, 0.2, height]\n",
        "\n",
        "# start with a square Figure\n",
        "fig = plt.figure(figsize=(8, 8))\n",
        "\n",
        "ax = fig.add_axes(rect_scatter)\n",
        "ax_histx = fig.add_axes(rect_histx, sharex=ax)\n",
        "ax_histy = fig.add_axes(rect_histy, sharey=ax)\n",
        "\n",
        "# use the previously defined function\n",
        "scatter_hist(x, y, ax, ax_histx, ax_histy)\n",
        "\n",
        "plt.show()"
      ],
      "execution_count": null,
      "outputs": []
    },
    {
      "cell_type": "code",
      "metadata": {
        "id": "4vB4imbWuWkq"
      },
      "source": [
        "import matplotlib\n",
        "import matplotlib.pyplot as plt\n",
        "import numpy as np\n",
        "\n"
      ],
      "execution_count": null,
      "outputs": []
    },
    {
      "cell_type": "code",
      "metadata": {
        "id": "IRv5Vw9kuanU"
      },
      "source": [
        "fig, (ax1) = plt.subplots(ncols=1, figsize=(8, 4))\n",
        "\n",
        "df1 = df[df['Survived'] == 0]\n",
        "df2 = df[df['Survived'] == 1]\n",
        "\n",
        "# print(df1.head)\n",
        "# print(df2.head)\n",
        "\n",
        "ax1.scatter(df1['Age'], df1['Fare'], label=\"No Vivos\", c='red', alpha=0.10)\n",
        "ax1.scatter(df2['Age'], df2['Fare'], label=\"Vivos\", c='green', alpha=0.10)\n",
        "ax.axhline(0, color='grey', linewidth=0.8)\n",
        "ax.set_ylabel('Fare')\n",
        "ax.set_title('Las edades del titanic')\n",
        "\n",
        "ax.legend()\n",
        "plt.show()"
      ],
      "execution_count": null,
      "outputs": []
    }
  ]
}